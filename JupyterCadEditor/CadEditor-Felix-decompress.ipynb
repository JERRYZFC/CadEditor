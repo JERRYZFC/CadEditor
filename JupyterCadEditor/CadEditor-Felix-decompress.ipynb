{
 "cells": [
  {
   "cell_type": "markdown",
   "metadata": {},
   "source": [
    "Скрипт для компрессии и декомпрессии данных в игре Felix The Cat [NES]\n",
    "--"
   ]
  },
  {
   "cell_type": "markdown",
   "metadata": {},
   "source": [
    "Декомпрессия\n",
    "---"
   ]
  },
  {
   "cell_type": "markdown",
   "metadata": {},
   "source": [
    "Считывание данных из ROM, для удобства конвертируем их из символов в числа"
   ]
  },
  {
   "cell_type": "code",
   "execution_count": 6,
   "metadata": {
    "collapsed": true
   },
   "outputs": [],
   "source": [
    "from cadEditorPath import cadEditorDir\n",
    "import os\n",
    "\n",
    "romName = os.path.join(cadEditorDir, \"Felix the Cat (U) [!].nes\")\n",
    "with open(romName, \"rb\") as f:\n",
    "    d = f.read()\n",
    "d = map(ord, d)"
   ]
  },
  {
   "cell_type": "markdown",
   "metadata": {
    "collapsed": false
   },
   "source": [
    "Вспомогательные функции"
   ]
  },
  {
   "cell_type": "code",
   "execution_count": 38,
   "metadata": {
    "collapsed": false
   },
   "outputs": [],
   "source": [
    "def readWord(d, addr):\n",
    "    return d[addr+1]<<8 | d[addr]\n",
    "\n",
    "def wordToBytes(word):\n",
    "    return word&0xFF, word>>8\n",
    "\n",
    "#прибавление адресов банков\n",
    "def addPtrToLinesPtr(addr, levelNo):\n",
    "    if levelNo == 0:\n",
    "        return addr + 0x10010\n",
    "    elif levelNo == 1:\n",
    "        return addr + 0xC010\n",
    "    else:\n",
    "        return -1\n",
    "\n",
    "def addPtrToCompress(addr, levelNo):\n",
    "    return addPtrToLinesPtr(addr, levelNo)\n",
    "\n",
    "#маскирование ненужных бит из адреса линий, которые кодируют информацию о списке объектов\n",
    "def removeObjBits(addr):\n",
    "    if addr < 0x8000:\n",
    "        addr += 0x8000\n",
    "    if addr > 0xC000:\n",
    "        addr -= 0x4000\n",
    "    return addr\n",
    "\n",
    "#прибавление адресов банков\n",
    "def addBankOffset(addr, levelNo):\n",
    "    if (levelNo == 0):\n",
    "        return addr + 0x10010\n",
    "    elif (levelNo == 1):\n",
    "        return addr + 0xc010\n",
    "    \n",
    "#расчёт адресов линий\n",
    "def addPtrToLines(addr, levelNo):\n",
    "    addr = removeObjBits(addr)\n",
    "    return addBankOffset(addr, levelNo)"
   ]
  },
  {
   "cell_type": "markdown",
   "metadata": {},
   "source": [
    "Чтение поинтеров на массив адресов линий и словарь для распаковки из ROM"
   ]
  },
  {
   "cell_type": "code",
   "execution_count": 10,
   "metadata": {
    "collapsed": false
   },
   "outputs": [
    {
     "name": "stdout",
     "output_type": "stream",
     "text": [
      "Lines array addr   : 0x166f2\n",
      "Compress dict addr : 0x16559\n"
     ]
    }
   ],
   "source": [
    "LEVEL_NO = 1\n",
    "if LEVEL_NO == 0:\n",
    "    linesPtrsAddr = addPtrToLinesPtr(readWord(d,0x27e),0)\n",
    "    compressAddr = addPtrToLinesPtr(readWord(d,0x280), 0)\n",
    "elif LEVEL_NO == 1:\n",
    "    linesPtrsAddr = addPtrToLinesPtr(readWord(d,0x2DE),1)\n",
    "    compressAddr = addPtrToCompress(readWord(d,0x2E0), 1)\n",
    "    \n",
    "print \"Lines array addr   :\", hex(linesPtrsAddr)\n",
    "print \"Compress dict addr :\", hex(compressAddr)"
   ]
  },
  {
   "cell_type": "markdown",
   "metadata": {},
   "source": [
    "Чтение RLE-словаря для распаковки"
   ]
  },
  {
   "cell_type": "code",
   "execution_count": 11,
   "metadata": {
    "collapsed": false
   },
   "outputs": [],
   "source": [
    "def readCompress(d, addr):\n",
    "    ans = []\n",
    "    for c in xrange(128):\n",
    "        ans.append((d[addr], d[addr+1]))\n",
    "        addr += 2\n",
    "    return ans"
   ]
  },
  {
   "cell_type": "code",
   "execution_count": 12,
   "metadata": {
    "collapsed": false
   },
   "outputs": [
    {
     "name": "stdout",
     "output_type": "stream",
     "text": [
      "Compressed Array: [(24, 0), (12, 0), (10, 21), (11, 0), (2, 21), (10, 23), (18, 0), (4, 3), (6, 0), (3, 3), (19, 0), (16, 0), (2, 0), (2, 3), (9, 0), (2, 125), (7, 0), (2, 5), (3, 5), (8, 0), (4, 5), (5, 5), (17, 0), (6, 5), (7, 5), (15, 0), (8, 5), (14, 0), (9, 5), (13, 0), (10, 5), (5, 0), (11, 5), (2, 16), (3, 16), (4, 16), (5, 16), (10, 0), (3, 0), (4, 0), (2, 83), (2, 86), (3, 86), (3, 100), (12, 5), (4, 1), (13, 5), (14, 5), (3, 1), (3, 21), (2, 1), (3, 50), (2, 50), (6, 88), (5, 88), (4, 87), (3, 87), (4, 35), (4, 36), (2, 71), (2, 89), (2, 117), (2, 118), (3, 35), (3, 36), (2, 87), (2, 88), (3, 88), (11, 20), (13, 21), (13, 1), (4, 88), (10, 20), (5, 21), (4, 50), (6, 21), (5, 20), (5, 23), (4, 21), (9, 20), (9, 23), (6, 20), (7, 21), (6, 23), (2, 20), (2, 23), (14, 20), (3, 112), (15, 21), (5, 1), (8, 21), (11, 35), (11, 36), (9, 21), (7, 89), (4, 89), (10, 35), (10, 36), (5, 50), (12, 20), (24, 21), (5, 112), (6, 1), (21, 74), (110, 72), (80, 67), (75, 15), (72, 80), (71, 71), (72, 80), (67, 75), (15, 72), (80, 71), (71, 95), (89, 89), (21, 74), (110, 73), (81, 68), (76, 15), (73, 81), (71, 71), (73, 81), (68, 76), (15, 73), (81, 71), (71, 95), (89, 89), (21, 74)]\n"
     ]
    }
   ],
   "source": [
    "compressedArr = readCompress(d, compressAddr)\n",
    "print \"Compressed Array:\", compressedArr"
   ]
  },
  {
   "cell_type": "markdown",
   "metadata": {},
   "source": [
    "Хак для уровня 2 - чтение базовых линий, задающих повторяющуюся мозаику"
   ]
  },
  {
   "cell_type": "code",
   "execution_count": 16,
   "metadata": {
    "collapsed": true
   },
   "outputs": [],
   "source": [
    "#hardcode for pyramides levels (2-2 - 2-3)\n",
    "def decompressLineForBackground(d, t, LINE_HEIGHT = 24):\n",
    "    index = - (3 + t - 255)\n",
    "    return decompressLine(d, 0x16627-index*24)"
   ]
  },
  {
   "cell_type": "markdown",
   "metadata": {},
   "source": [
    "Распаковка одной линии"
   ]
  },
  {
   "cell_type": "code",
   "execution_count": 17,
   "metadata": {
    "collapsed": false
   },
   "outputs": [],
   "source": [
    "def decompressLine(d, addr, LINE_HEIGHT = 24):\n",
    "    #print hex(addr)\n",
    "    ans = []\n",
    "    while len(ans) < LINE_HEIGHT:\n",
    "        v = d[addr]\n",
    "        if v < 0x80:\n",
    "            ans.append(v)\n",
    "        elif v >= 0xFC: #for mosaic levels\n",
    "            addr +=1\n",
    "            backLine = decompressLineForBackground(d, v)\n",
    "            countFromBackground = d[addr]\n",
    "            ans.extend(backLine[:countFromBackground])\n",
    "        else:\n",
    "            cv = v & 0x7F\n",
    "            repeatCount, repeatTile = compressedArr[cv]\n",
    "            ans.extend([repeatTile]*repeatCount)\n",
    "        addr += 1\n",
    "    return ans"
   ]
  },
  {
   "cell_type": "markdown",
   "metadata": {},
   "source": [
    "Распаковка всех линий уровня"
   ]
  },
  {
   "cell_type": "code",
   "execution_count": 18,
   "metadata": {
    "collapsed": false
   },
   "outputs": [],
   "source": [
    "def decompressScreen():\n",
    "    lines = []\n",
    "    #actually, it's 3 separate configs for level x-1, x-2, x-3, but it has similar pointers and\n",
    "    # lie together, so we simple read x3 times to get info of whole level\n",
    "    WIDTH = 256*3\n",
    "    HEIGHT = 24\n",
    "    curLinePtrsAddr = linesPtrsAddr\n",
    "    for l in xrange(WIDTH):\n",
    "        #print \"CUR_LINE_PTR\", hex(curLinePtrsAddr)\n",
    "        lineAddr = addPtrToLines(readWord(d, curLinePtrsAddr), LEVEL_NO)\n",
    "        #print \"LINE_ADDR\", hex(readWord(d, curLinePtrsAddr))\n",
    "        vals = decompressLine(d, lineAddr, HEIGHT)\n",
    "        #print vals\n",
    "        if len(vals) != HEIGHT:\n",
    "            print \"Warning\", len(vals)\n",
    "            print vals\n",
    "            vals = vals[:HEIGHT]\n",
    "        ##assert(len(vals)== HEIGHT)\n",
    "        lines.append(vals)\n",
    "        curLinePtrsAddr += 2\n",
    "    return lines"
   ]
  },
  {
   "cell_type": "code",
   "execution_count": 19,
   "metadata": {
    "collapsed": false
   },
   "outputs": [],
   "source": [
    "lines = decompressScreen()\n",
    "screen = [item for sublist in lines for item in sublist]"
   ]
  },
  {
   "cell_type": "code",
   "execution_count": 20,
   "metadata": {
    "collapsed": false
   },
   "outputs": [],
   "source": [
    "dumpName = os.path.join(cadEditorDir, \"settings_felix_the_cat/dump%d.bin\"%(LEVEL_NO+1))\n",
    "with open(dumpName, \"wb\") as f:\n",
    "    v = \"\".join(map(chr, screen))\n",
    "    f.write(v)"
   ]
  },
  {
   "cell_type": "markdown",
   "metadata": {
    "collapsed": true
   },
   "source": [
    "КОМПРЕССИЯ\n",
    "---\n",
    "Пример для уровня 1"
   ]
  },
  {
   "cell_type": "code",
   "execution_count": 30,
   "metadata": {
    "collapsed": true
   },
   "outputs": [],
   "source": [
    "from itertools import groupby\n",
    "\n",
    "def chunks(l, n):\n",
    "    \"\"\"Yield successive n-sized chunks from l.\"\"\"\n",
    "    for i in range(0, len(l), n):\n",
    "        yield l[i:i + n]"
   ]
  },
  {
   "cell_type": "markdown",
   "metadata": {},
   "source": [
    "Считывание сохранённого дампа"
   ]
  },
  {
   "cell_type": "code",
   "execution_count": 31,
   "metadata": {
    "collapsed": true
   },
   "outputs": [],
   "source": [
    "dumpName = os.path.join(cadEditorDir, \"settings_felix_the_cat/dump1.bin\")\n",
    "with open(dumpName, \"rb\") as f:\n",
    "    d = f.read()\n",
    "    \n",
    "screen = map(ord, d)"
   ]
  },
  {
   "cell_type": "markdown",
   "metadata": {},
   "source": [
    "Замена цепочки повторяющихся значений в линии на их индекс в RLE-словаре"
   ]
  },
  {
   "cell_type": "code",
   "execution_count": 32,
   "metadata": {
    "collapsed": false
   },
   "outputs": [],
   "source": [
    "def compressorReplace(lines, compressedPair, index):\n",
    "    #replace with string version of lines for it's great replace method :)\n",
    "    tc, ti = compressedPair\n",
    "    findSeq = chr(ti)*tc\n",
    "    ans = []\n",
    "    findAtLeastOneReplace = False\n",
    "    for line in lines:\n",
    "        rline = \"\".join(chr(l) for l in line).replace(findSeq, chr(index | 0x80))\n",
    "        rline = [ord(l) for l in rline]\n",
    "        if line != rline:\n",
    "            findAtLeastOneReplace = True\n",
    "        #print \"before:\", compressedPair, line, index\n",
    "        #print \"after :\", compressedPair, rline, index\n",
    "        ans.append(rline)\n",
    "    return ans, findAtLeastOneReplace"
   ]
  },
  {
   "cell_type": "markdown",
   "metadata": {},
   "source": [
    "Построение потенциального RLE-словаря. Параметр forbiddenArr - список значений, которые не точно не будут использованы при построении реального словаря, используется для итеративного улучшения словаря."
   ]
  },
  {
   "cell_type": "code",
   "execution_count": 27,
   "metadata": {
    "collapsed": false
   },
   "outputs": [],
   "source": [
    "def rebuildCompress(screen, forbiddenArr, maxCompressSize = 256, LINE_LEN=24):\n",
    "    fullAns = [(0,0)]*maxCompressSize\n",
    "    lines = list(chunks(screen, LINE_LEN))\n",
    "    x = 0\n",
    "    while x < maxCompressSize:\n",
    "        ans = {}\n",
    "        for line in lines:\n",
    "            repeats = [list(g) for _, g in groupby(line)]\n",
    "            repeats = [(g[0],len(g)) for g in repeats]\n",
    "            for (tileNo,tileCount) in repeats:\n",
    "                #for tc in xrange(tileCount, tileCount+1):\n",
    "                for tc in xrange(2,tileCount+1):\n",
    "                    compressPair = tileNo, tc\n",
    "                    if compressPair in ans:\n",
    "                        ans[compressPair] += 1\n",
    "                    else:\n",
    "                        ans[compressPair] = 1\n",
    "        #рассчёт ценности замены - длины цепочки * частоты её встречаемости\n",
    "        def calcPoints(v):\n",
    "            (t,c), cnt = v\n",
    "            return -(c-1)*cnt\n",
    "    \n",
    "        ans = sorted(ans.iteritems(), key = calcPoints)\n",
    "        #filter and reverse values\n",
    "        newAns = []\n",
    "        for a in ans:\n",
    "            if (a[0][0]) < 0x80:\n",
    "                newAns.append((a[0][1],a[0][0]))\n",
    "        \n",
    "        newAns = filter(lambda v: v not in forbiddenArr, newAns)\n",
    "        if len(newAns) == 0:\n",
    "            break\n",
    "            \n",
    "        #HINT!!! if first results are similar in points, then we can use it's all\n",
    "        ansValue = newAns[0][1]\n",
    "        #newAns = filter(lambda x: x[1]==ansValue, newAns) #comment this for best results!\n",
    "        #newAns = sorted(newAns, key = lambda x: -x[0])\n",
    "        #print newAns\n",
    "        similar, maxSimilar = 0, 256\n",
    "        while len(newAns) > 0 and x < maxCompressSize and similar < maxSimilar:\n",
    "            curAns = newAns[0]\n",
    "            lines, findAtLeastOneReplace = compressorReplace(lines, curAns, x)\n",
    "            fullAns[x] = curAns\n",
    "            x += 1\n",
    "            similar += 1\n",
    "            newAns = newAns[1:]\n",
    "    return fullAns"
   ]
  },
  {
   "cell_type": "markdown",
   "metadata": {},
   "source": [
    "Простая версия построения словаря, без учёта перестройки линий и исключения неиспользуемых значений, для сравнения результатов"
   ]
  },
  {
   "cell_type": "code",
   "execution_count": 28,
   "metadata": {
    "collapsed": true
   },
   "outputs": [],
   "source": [
    "def rebuildCompressNoDinamic(screen, maxCompressSize = 64, LINE_LEN=24):\n",
    "    ans = {}\n",
    "    for line in chunks(screen, LINE_LEN):\n",
    "        repeats = [list(g) for _, g in groupby(line)]\n",
    "        repeats = [(g[0],len(g)) for g in repeats]\n",
    "        for (tileNo,tileCount) in repeats:\n",
    "            #for tc in xrange(tileCount, tileCount+1):\n",
    "            for tc in xrange(2,tileCount+1):\n",
    "                compressPair = tileNo, tc\n",
    "                if compressPair in ans:\n",
    "                    ans[compressPair] += 1\n",
    "                else:\n",
    "                    ans[compressPair] = 1\n",
    "    #--\n",
    "    def calcPoints(v):\n",
    "        (t,c), cnt = v\n",
    "        return -(c-1)*cnt\n",
    "    \n",
    "    ans = sorted(ans.iteritems(), key = calcPoints)\n",
    "    #reverse values\n",
    "    ans = map (lambda x: (x[0][1],x[0][0]), ans[:maxCompressSize])\n",
    "    return ans"
   ]
  },
  {
   "cell_type": "markdown",
   "metadata": {},
   "source": [
    "Построение RLE-словаря"
   ]
  },
  {
   "cell_type": "code",
   "execution_count": 34,
   "metadata": {
    "collapsed": false
   },
   "outputs": [
    {
     "name": "stdout",
     "output_type": "stream",
     "text": [
      "Compression array: [(13, 0), (12, 0), (14, 0), (15, 0), (11, 0), (10, 0), (9, 0), (16, 0), (8, 0), (7, 0), (17, 0), (18, 0), (6, 0), (19, 0), (5, 0), (4, 0), (3, 0), (20, 0), (2, 0), (21, 0), (5, 121), (5, 120), (4, 121), (3, 121), (4, 120), (3, 120), (2, 120), (2, 121), (6, 121), (16, 15), (15, 15), (14, 15), (6, 120), (13, 15), (18, 15), (12, 15), (7, 121), (17, 15), (11, 15), (9, 121), (8, 121), (10, 15), (7, 120), (8, 120), (2, 3), (9, 15), (11, 121), (9, 120), (8, 15), (10, 121), (3, 82), (13, 121), (3, 3), (12, 121), (7, 15), (10, 120), (2, 82), (4, 124), (4, 3), (24, 121), (3, 124), (16, 5), (6, 15), (4, 125), (12, 120), (23, 121), (23, 124), (3, 125), (22, 121), (22, 0), (15, 5), (22, 124), (21, 124), (5, 124), (21, 121), (11, 120), (14, 5), (20, 121), (20, 124), (19, 121), (19, 124), (13, 5), (5, 15), (6, 124), (8, 124), (18, 5), (18, 124), (2, 124), (18, 121), (2, 125), (12, 5), (17, 5), (9, 124), (17, 121), (5, 125), (17, 124), (11, 5), (7, 124), (6, 125), (16, 124), (16, 121), (15, 121), (15, 124), (4, 15), (10, 5), (10, 124), (14, 121), (14, 124), (2, 108), (2, 1), (13, 124), (13, 120), (9, 5), (23, 125), (12, 124), (8, 5), (4, 108), (22, 125), (8, 125), (11, 124), (21, 125), (20, 125), (7, 125), (19, 125), (7, 5), (3, 1), (3, 15), (18, 125), (17, 125), (16, 125), (6, 5), (3, 108), (15, 125), (14, 125), (5, 5), (13, 125), (5, 3), (12, 125), (11, 125), (10, 125), (4, 5), (4, 1), (2, 15), (9, 125), (3, 5), (3, 112), (2, 110), (2, 109), (4, 109), (2, 112), (4, 80), (4, 110), (2, 5), (3, 109), (3, 110), (3, 80), (2, 67), (2, 80), (0, 0), (0, 0), (0, 0), (0, 0), (0, 0), (0, 0), (0, 0), (0, 0), (0, 0), (0, 0), (0, 0), (0, 0), (0, 0), (0, 0), (0, 0), (0, 0), (0, 0), (0, 0), (0, 0), (0, 0), (0, 0), (0, 0), (0, 0), (0, 0), (0, 0), (0, 0), (0, 0), (0, 0), (0, 0), (0, 0), (0, 0), (0, 0), (0, 0), (0, 0), (0, 0), (0, 0), (0, 0), (0, 0), (0, 0), (0, 0), (0, 0), (0, 0), (0, 0), (0, 0), (0, 0), (0, 0), (0, 0), (0, 0), (0, 0), (0, 0), (0, 0), (0, 0), (0, 0), (0, 0), (0, 0), (0, 0), (0, 0), (0, 0), (0, 0), (0, 0), (0, 0), (0, 0), (0, 0), (0, 0), (0, 0), (0, 0), (0, 0), (0, 0), (0, 0), (0, 0), (0, 0), (0, 0), (0, 0), (0, 0), (0, 0), (0, 0), (0, 0), (0, 0), (0, 0), (0, 0), (0, 0), (0, 0), (0, 0), (0, 0), (0, 0), (0, 0), (0, 0), (0, 0), (0, 0), (0, 0), (0, 0), (0, 0), (0, 0), (0, 0), (0, 0), (0, 0), (0, 0), (0, 0)]\n"
     ]
    }
   ],
   "source": [
    "#comment all this cell for no rebuild RLE-dictionary\n",
    "\n",
    "#!!!\n",
    "#forbidden = [(15, 15), (14, 15), (13, 15), (15, 5), (22, 124), (21, 124), (14, 5), (3, 108), (2, 112)]\n",
    "#forbidden.extend([(12, 15), (20, 124), (13, 5), (19, 124), (2, 15), (3, 109)])\n",
    "#forbidden.extend([(17, 15), (18, 124), (3, 110), (3, 80)])\n",
    "#forbidden.extend([(11, 15), (2, 5), (2, 80), (0, 0)])\n",
    "#\n",
    "compressedArr = rebuildCompress(screen, [])\n",
    "print \"Compression array:\", compressedArr\n",
    "\n",
    "#compressedArr = rebuildCompressNoDinamic(screen)\n",
    "#print compressedArr"
   ]
  },
  {
   "cell_type": "markdown",
   "metadata": {},
   "source": [
    "Запаковка строки. Выбирает самую длинную из возможных RLE-цепочек в словаре. Параметр compressedArrUsing возвращает количество использований каждого из значений словаря, что позволяет отследить неиспользуемые значения в словаре"
   ]
  },
  {
   "cell_type": "code",
   "execution_count": 35,
   "metadata": {
    "collapsed": true
   },
   "outputs": [],
   "source": [
    "def packRepeat(repeat, compressedArr, compressedArrUsing):\n",
    "    tileNo, tileCount = repeat\n",
    "    if tileCount <= 0:\n",
    "        return []\n",
    "    if tileCount == 1:\n",
    "        return [tileNo]\n",
    "    #---\n",
    "    maxInd, maxCount = -1, -1\n",
    "    for (ind,(c,t)) in enumerate(compressedArr):\n",
    "        if t == tileNo and c <= tileCount:\n",
    "            if c > maxCount:\n",
    "                maxCount = c\n",
    "                maxInd = ind\n",
    "    if maxInd != -1:\n",
    "        compressedArrUsing[maxInd] += 1\n",
    "        return [0x80 | maxInd ] + packRepeat((tileNo, tileCount - maxCount), compressedArr, compressedArrUsing)\n",
    "    #---\n",
    "    return [tileNo] + packRepeat((tileNo, tileCount-1), compressedArr, compressedArrUsing)\n",
    "\n",
    "def compressLine(l, compressedArr, compressedArrUsing):\n",
    "    repeats = [list(g) for _, g in groupby(l)]\n",
    "    repeats = [(g[0],len(g)) for g in repeats]\n",
    "    ans = []\n",
    "    for r in repeats:\n",
    "        ans.extend(packRepeat(r, compressedArr, compressedArrUsing))\n",
    "    return ans\n"
   ]
  },
  {
   "cell_type": "markdown",
   "metadata": {},
   "source": [
    "Сжатие целого экрана"
   ]
  },
  {
   "cell_type": "code",
   "execution_count": 36,
   "metadata": {
    "collapsed": false
   },
   "outputs": [],
   "source": [
    "def compressScreen(screen, startDataAddr):\n",
    "    LINE_LEN = 24\n",
    "    curAddr = startDataAddr\n",
    "    prevLinesAddrs = {}\n",
    "    linesAddrs = []\n",
    "    linesArray = []\n",
    "    compressedArrUsing = [0] * len(compressedArr)\n",
    "    for line in chunks(screen, LINE_LEN):\n",
    "        cline = compressLine(line, compressedArr, compressedArrUsing)\n",
    "        #print cline, \",\"\n",
    "        clineTupple = tuple(cline)\n",
    "        if clineTupple in prevLinesAddrs:\n",
    "            linesAddrs.append(prevLinesAddrs[clineTupple])\n",
    "            continue\n",
    "        prevLinesAddrs[clineTupple] = curAddr\n",
    "        linesAddrs.append(curAddr)\n",
    "        linesArray.extend(cline)\n",
    "        curAddr += len(cline)\n",
    "    return linesAddrs, linesArray, compressedArrUsing"
   ]
  },
  {
   "cell_type": "markdown",
   "metadata": {},
   "source": [
    "Последовательный подбор словаря и сжатие им с очисткой словаря"
   ]
  },
  {
   "cell_type": "code",
   "execution_count": 37,
   "metadata": {
    "collapsed": false
   },
   "outputs": [
    {
     "name": "stdout",
     "output_type": "stream",
     "text": [
      "Compressed size: 3740\n",
      "Compressed size: 3740\n",
      "Final compressed arr: [(13, 0), (12, 0), (14, 0), (15, 0), (11, 0), (10, 0), (9, 0), (16, 0), (8, 0), (7, 0), (17, 0), (18, 0), (6, 0), (19, 0), (5, 0), (4, 0), (3, 0), (20, 0), (2, 0), (21, 0), (5, 121), (5, 120), (4, 121), (3, 121), (4, 120), (3, 120), (2, 120), (2, 121), (6, 121), (16, 15), (6, 120), (18, 15), (7, 121), (9, 121), (8, 121), (7, 120), (8, 120), (2, 3), (11, 121), (9, 120), (3, 82), (13, 121), (3, 3), (10, 120), (2, 82), (4, 124), (4, 3), (24, 121), (3, 124), (16, 5), (4, 125), (12, 120), (23, 124), (3, 125), (22, 0), (5, 124), (6, 124), (8, 124), (18, 5), (2, 124), (2, 125), (9, 124), (5, 125), (6, 125), (10, 124), (2, 108), (2, 1), (13, 120), (23, 125), (4, 108), (8, 125), (3, 1), (5, 3), (4, 1), (3, 112), (2, 110), (2, 109), (4, 109), (4, 80), (4, 110), (2, 67)]\n"
     ]
    }
   ],
   "source": [
    "fullForbiddenArr = []\n",
    "\n",
    "while True:\n",
    "    linesAddrs, linesArray, compressedArrUsing = compressScreen(screen, 0xA8ED)\n",
    "    forbiddenArr = []\n",
    "    print \"Compressed size:\", len(linesArray)\n",
    "    #print compressedArrUsing\n",
    "    for ca, car in zip(compressedArr, compressedArrUsing):\n",
    "        if car == 0 and ca != (0,0):\n",
    "            forbiddenArr.append(ca)\n",
    "    if forbiddenArr == []:\n",
    "        break\n",
    "    fullForbiddenArr.extend(forbiddenArr)\n",
    "    compressedArr = rebuildCompress(screen, fullForbiddenArr)\n",
    "compressedArr = filter (lambda v: v!=(0,0), compressedArr)\n",
    "print \"Final compressed arr:\", compressedArr"
   ]
  },
  {
   "cell_type": "markdown",
   "metadata": {},
   "source": [
    "ПАТЧИНГ РОМА\n",
    "--\n",
    "Запаковка сжатых данных обратно в ROM-файл.\n",
    "Возможны ошибки в случае, если сжатые данные занимают больше места, чем исходные"
   ]
  },
  {
   "cell_type": "code",
   "execution_count": 39,
   "metadata": {
    "collapsed": true
   },
   "outputs": [],
   "source": [
    "romPatchLinesArrayAddr = 0x1B93F\n",
    "romPatchDataArrayAddr  = 0x1A8FD\n",
    "romPatchCompressArrayAddr = 0x1B799"
   ]
  },
  {
   "cell_type": "code",
   "execution_count": 40,
   "metadata": {
    "collapsed": false
   },
   "outputs": [
    {
     "name": "stdout",
     "output_type": "stream",
     "text": [
      "Total data written: 3740\n"
     ]
    }
   ],
   "source": [
    "#convert pointer to bytes\n",
    "dataLines = []\n",
    "for addr in linesAddrs:\n",
    "    dataLines.extend(wordToBytes(addr))\n",
    "\n",
    "romName = os.path.join(cadEditorDir, \"Felix the Cat (U) [!].nes\")\n",
    "romName2 = os.path.join(cadEditorDir, \"Felix the Cat (U) [!]-2.nes\")\n",
    "with open(romName, \"rb\") as f:\n",
    "    d = f.read()\n",
    "    d = map(ord, d)\n",
    "\n",
    "#write lines pointers\n",
    "for x in xrange(len(dataLines)):\n",
    "    #we must save some bits in hi-bytes addr, because they used to encoding objects\n",
    "    if x%2 == 1:\n",
    "        v = d[romPatchLinesArrayAddr+x]\n",
    "        v = (v & 0xC0) | (dataLines[x] & 0x3F)\n",
    "        d[romPatchLinesArrayAddr+x] = v\n",
    "    else:\n",
    "        d[romPatchLinesArrayAddr+x] = dataLines[x]\n",
    "#write lines data\n",
    "print \"Total data written:\", len(linesArray)\n",
    "#print linesArray\n",
    "d[romPatchDataArrayAddr:romPatchDataArrayAddr+len(linesArray)] = linesArray\n",
    "#write compress dict\n",
    "compressedData = [y for x in compressedArr for y in x]\n",
    "d[romPatchCompressArrayAddr:romPatchCompressArrayAddr+len(compressedData)] = compressedData\n",
    "with open(romName2, \"wb\") as f:\n",
    "    d =  \"\".join(map(chr, d))\n",
    "    f.write(d)"
   ]
  },
  {
   "cell_type": "markdown",
   "metadata": {
    "collapsed": true
   },
   "source": [
    "<pre>\n",
    "0. Размер сжатых данных со словарём, используемом в игре: 3740 байт\n",
    "1. Размер данных со статическим составлением словаря:     3879 байт\n",
    "(при этом до повтора целых линий - 6313 байт)\n",
    "2. Размер данных с динамическим составлением словаря:     4695 байт\n",
    "3. C поправкой на использование неск. возможных значений: 3838 байт\n",
    "4. С циклическим исключением возможных ошибок:            3817 байт\n",
    "5. С большим размером словаря:                            3740 байт\n",
    "</pre>"
   ]
  },
  {
   "cell_type": "code",
   "execution_count": null,
   "metadata": {
    "collapsed": true
   },
   "outputs": [],
   "source": []
  }
 ],
 "metadata": {
  "kernelspec": {
   "display_name": "Python 2",
   "language": "python",
   "name": "python2"
  },
  "language_info": {
   "codemirror_mode": {
    "name": "ipython",
    "version": 2
   },
   "file_extension": ".py",
   "mimetype": "text/x-python",
   "name": "python",
   "nbconvert_exporter": "python",
   "pygments_lexer": "ipython2",
   "version": "2.7.12"
  }
 },
 "nbformat": 4,
 "nbformat_minor": 0
}
