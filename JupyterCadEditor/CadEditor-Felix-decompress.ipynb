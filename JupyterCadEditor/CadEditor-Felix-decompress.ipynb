{
 "cells": [
  {
   "cell_type": "markdown",
   "metadata": {},
   "source": [
    "ДЕКОМПРЕССИЯ"
   ]
  },
  {
   "cell_type": "code",
   "execution_count": 2,
   "metadata": {
    "collapsed": true
   },
   "outputs": [],
   "source": [
    "romName = r\"d:\\DEV\\CadEditor\\CadEditor\\Felix the Cat (U) [!].nes\"\n",
    "with open(romName, \"rb\") as f:\n",
    "    d = f.read()\n",
    "d = map(ord, d)"
   ]
  },
  {
   "cell_type": "code",
   "execution_count": 3,
   "metadata": {
    "collapsed": false
   },
   "outputs": [],
   "source": [
    "def readWord(d, addr):\n",
    "    return d[addr+1]<<8 | d[addr]"
   ]
  },
  {
   "cell_type": "code",
   "execution_count": 19,
   "metadata": {
    "collapsed": false
   },
   "outputs": [],
   "source": [
    "def addPtrToLinesPtr(addr, levelNo):\n",
    "    if levelNo == 0:\n",
    "        return addr + 0x10010\n",
    "    elif levelNo == 1:\n",
    "        return addr + 0xC010\n",
    "    else:\n",
    "        return -1\n",
    "\n",
    "def addPtrToCompress(addr, levelNo):\n",
    "    return addPtrToLinesPtr(addr, levelNo)\n",
    "\n",
    "def addPtrToLines(addr, levelNo):\n",
    "    #print hex(addr),\"-\",\n",
    "    if addr < 0x8000:\n",
    "        addr += 0x8000\n",
    "    if addr > 0xC000:\n",
    "        addr -= 0x4000\n",
    "    #print hex(addr)\n",
    "    if (levelNo == 0):\n",
    "        return addr + 0x10010\n",
    "    elif (levelNo == 1):\n",
    "        return addr + 0xc010"
   ]
  },
  {
   "cell_type": "code",
   "execution_count": 20,
   "metadata": {
    "collapsed": false
   },
   "outputs": [
    {
     "name": "stdout",
     "output_type": "stream",
     "text": [
      "0x1b93f\n",
      "0x1b799\n",
      "0x166f2\n",
      "0x16559\n"
     ]
    }
   ],
   "source": [
    "LEVEL_NO = 1\n",
    "#for level 1\n",
    "linesPtrsAddr = addPtrToLinesPtr(readWord(d,0x27e),0)\n",
    "print(hex(linesPtrsAddr))\n",
    "compressAddr = addPtrToLinesPtr(readWord(d,0x280), 0)\n",
    "print(hex(compressAddr))\n",
    "\n",
    "#for level 2\n",
    "linesPtrsAddr = addPtrToLinesPtr(readWord(d,0x2DE),1)\n",
    "print(hex(linesPtrsAddr))\n",
    "compressAddr = addPtrToCompress(readWord(d,0x2E0), 1)\n",
    "print(hex(compressAddr))"
   ]
  },
  {
   "cell_type": "code",
   "execution_count": 21,
   "metadata": {
    "collapsed": false
   },
   "outputs": [],
   "source": [
    "def readCompress(d, addr):\n",
    "    ans = []\n",
    "    for c in xrange(128):\n",
    "        ans.append((d[addr], d[addr+1]))\n",
    "        addr += 2\n",
    "    return ans"
   ]
  },
  {
   "cell_type": "code",
   "execution_count": 22,
   "metadata": {
    "collapsed": false
   },
   "outputs": [
    {
     "name": "stdout",
     "output_type": "stream",
     "text": [
      "[(24, 0), (12, 0), (10, 21), (11, 0), (2, 21), (10, 23), (18, 0), (4, 3), (6, 0), (3, 3), (19, 0), (16, 0), (2, 0), (2, 3), (9, 0), (2, 125), (7, 0), (2, 5), (3, 5), (8, 0), (4, 5), (5, 5), (17, 0), (6, 5), (7, 5), (15, 0), (8, 5), (14, 0), (9, 5), (13, 0), (10, 5), (5, 0), (11, 5), (2, 16), (3, 16), (4, 16), (5, 16), (10, 0), (3, 0), (4, 0), (2, 83), (2, 86), (3, 86), (3, 100), (12, 5), (4, 1), (13, 5), (14, 5), (3, 1), (3, 21), (2, 1), (3, 50), (2, 50), (6, 88), (5, 88), (4, 87), (3, 87), (4, 35), (4, 36), (2, 71), (2, 89), (2, 117), (2, 118), (3, 35), (3, 36), (2, 87), (2, 88), (3, 88), (11, 20), (13, 21), (13, 1), (4, 88), (10, 20), (5, 21), (4, 50), (6, 21), (5, 20), (5, 23), (4, 21), (9, 20), (9, 23), (6, 20), (7, 21), (6, 23), (2, 20), (2, 23), (14, 20), (3, 112), (15, 21), (5, 1), (8, 21), (11, 35), (11, 36), (9, 21), (7, 89), (4, 89), (10, 35), (10, 36), (5, 50), (12, 20), (24, 21), (5, 112), (6, 1), (21, 74), (110, 72), (80, 67), (75, 15), (72, 80), (71, 71), (72, 80), (67, 75), (15, 72), (80, 71), (71, 95), (89, 89), (21, 74), (110, 73), (81, 68), (76, 15), (73, 81), (71, 71), (73, 81), (68, 76), (15, 73), (81, 71), (71, 95), (89, 89), (21, 74)]\n"
     ]
    }
   ],
   "source": [
    "compressedArr = readCompress(d, compressAddr)\n",
    "print compressedArr"
   ]
  },
  {
   "cell_type": "code",
   "execution_count": 134,
   "metadata": {
    "collapsed": true
   },
   "outputs": [],
   "source": [
    "#hardcode for pyramides levels (2-2 - 2-3)\n",
    "def decompressLineForBackground(d, t, LINE_HEIGHT = 24):\n",
    "    index = - (3 + t - 255)\n",
    "    return decompressLine(d, 0x16627-index*24)"
   ]
  },
  {
   "cell_type": "code",
   "execution_count": 135,
   "metadata": {
    "collapsed": false
   },
   "outputs": [],
   "source": [
    "def decompressLine(d, addr, LINE_HEIGHT = 24):\n",
    "    #print hex(addr)\n",
    "    ans = []\n",
    "    while len(ans) < LINE_HEIGHT:\n",
    "        v = d[addr]\n",
    "        if v < 0x80:\n",
    "            ans.append(v)\n",
    "        elif v > 0xF0: #for mosaic levels\n",
    "            addr +=1\n",
    "            backLine = decompressLineForBackground(d, v)\n",
    "            countFromBackground = d[addr]\n",
    "            ans.extend(backLine[:countFromBackground])\n",
    "        else:\n",
    "            cv = v & 0x7F\n",
    "            repeatCount, repeatTile = compressedArr[cv]\n",
    "            ans.extend([repeatTile]*repeatCount)\n",
    "        addr += 1\n",
    "    return ans\n",
    "    #return ans[:LINE_HEIGHT]"
   ]
  },
  {
   "cell_type": "code",
   "execution_count": 136,
   "metadata": {
    "collapsed": false
   },
   "outputs": [],
   "source": [
    "def decompressScreen():\n",
    "    lines = []\n",
    "    #actually, it's 3 separate configs for level 1-1, 1-2, 1-3, but it has similar pointers and\n",
    "    # lie together, so we simple read x3 times to get info of whole level\n",
    "    WIDTH = 256*3\n",
    "    HEIGHT = 24\n",
    "    curLinePtrsAddr = linesPtrsAddr\n",
    "    #lineAddrs = []\n",
    "    for l in xrange(WIDTH):\n",
    "        #print \"CUR_LINE_PTR\", hex(curLinePtrsAddr)\n",
    "        lineAddr = addPtrToLines(readWord(d, curLinePtrsAddr), LEVEL_NO)\n",
    "        #lineAddrs.append(lineAddr)\n",
    "        #print \"LINE_ADDR\", hex(readWord(d, curLinePtrsAddr))\n",
    "        vals = decompressLine(d, lineAddr, HEIGHT)\n",
    "        #print vals\n",
    "        if len(vals) != HEIGHT:\n",
    "            print \"Warning\", len(vals)\n",
    "            print vals\n",
    "            vals = vals[:HEIGHT]\n",
    "        ##assert(len(vals)== HEIGHT)\n",
    "        lines.append(vals)\n",
    "        curLinePtrsAddr += 2\n",
    "    return lines"
   ]
  },
  {
   "cell_type": "code",
   "execution_count": 137,
   "metadata": {
    "collapsed": false
   },
   "outputs": [],
   "source": [
    "lines = decompressScreen()\n",
    "screen = [item for sublist in lines for item in sublist]"
   ]
  },
  {
   "cell_type": "code",
   "execution_count": 138,
   "metadata": {
    "collapsed": false
   },
   "outputs": [],
   "source": [
    "dumpName = r\"d:\\DEV\\CadEditor\\CadEditor\\settings_felix_the_cat/dump%d.bin\"%(LEVEL_NO+1)\n",
    "with open(dumpName, \"wb\") as f:\n",
    "    v = \"\".join(map(chr, screen))\n",
    "    f.write(v)"
   ]
  },
  {
   "cell_type": "markdown",
   "metadata": {
    "collapsed": true
   },
   "source": [
    "КОМПРЕССИЯ<br>\n",
    "работает только для уровня 1"
   ]
  },
  {
   "cell_type": "code",
   "execution_count": null,
   "metadata": {
    "collapsed": true
   },
   "outputs": [],
   "source": [
    "from itertools import groupby"
   ]
  },
  {
   "cell_type": "code",
   "execution_count": null,
   "metadata": {
    "collapsed": true
   },
   "outputs": [],
   "source": [
    "dumpName = r\"d:\\DEV\\CadEditor\\CadEditor\\settings_felix_the_cat/dump1.bin\"\n",
    "with open(dumpName, \"rb\") as f:\n",
    "    d = f.read()\n",
    "    \n",
    "screen = map(ord, d)"
   ]
  },
  {
   "cell_type": "code",
   "execution_count": null,
   "metadata": {
    "collapsed": true
   },
   "outputs": [],
   "source": [
    "def chunks(l, n):\n",
    "    \"\"\"Yield successive n-sized chunks from l.\"\"\"\n",
    "    for i in range(0, len(l), n):\n",
    "        yield l[i:i + n]"
   ]
  },
  {
   "cell_type": "code",
   "execution_count": null,
   "metadata": {
    "collapsed": false
   },
   "outputs": [],
   "source": [
    "def compressorReplace(lines, compressedPair, index):\n",
    "    #replace with string version of lines for it's great replace method :)\n",
    "    tc, ti = compressedPair\n",
    "    findSeq = chr(ti)*tc\n",
    "    ans = []\n",
    "    findAtLeastOneReplace = False\n",
    "    for line in lines:\n",
    "        rline = \"\".join(chr(l) for l in line).replace(findSeq, chr(index | 0x80))\n",
    "        rline = [ord(l) for l in rline]\n",
    "        if line != rline:\n",
    "            findAtLeastOneReplace = True\n",
    "        #print \"before:\", compressedPair, line, index\n",
    "        #print \"after :\", compressedPair, rline, index\n",
    "        ans.append(rline)\n",
    "    return ans, findAtLeastOneReplace"
   ]
  },
  {
   "cell_type": "code",
   "execution_count": null,
   "metadata": {
    "collapsed": false
   },
   "outputs": [],
   "source": [
    "def rebuildCompress(screen, forbiddenArr, maxCompressSize = 256, LINE_LEN=24):\n",
    "    fullAns = [(0,0)]*maxCompressSize\n",
    "    lines = list(chunks(screen, LINE_LEN))\n",
    "    x = 0\n",
    "    while x < maxCompressSize:\n",
    "        ans = {}\n",
    "        for line in lines:\n",
    "            repeats = [list(g) for _, g in groupby(line)]\n",
    "            repeats = [(g[0],len(g)) for g in repeats]\n",
    "            for (tileNo,tileCount) in repeats:\n",
    "                #for tc in xrange(tileCount, tileCount+1):\n",
    "                for tc in xrange(2,tileCount+1):\n",
    "                    compressPair = tileNo, tc\n",
    "                    if compressPair in ans:\n",
    "                        ans[compressPair] += 1\n",
    "                    else:\n",
    "                        ans[compressPair] = 1\n",
    "        #--\n",
    "        def calcPoints(v):\n",
    "            (t,c), cnt = v\n",
    "            return -(c-1)*cnt\n",
    "    \n",
    "        ans = sorted(ans.iteritems(), key = calcPoints)\n",
    "        #filter and reverse values\n",
    "        newAns = []\n",
    "        for a in ans:\n",
    "            if (a[0][0]) < 0x80:\n",
    "                newAns.append((a[0][1],a[0][0]))\n",
    "        \n",
    "        newAns = filter(lambda v: v not in forbiddenArr, newAns)\n",
    "        if len(newAns) == 0:\n",
    "            break\n",
    "            \n",
    "        #HINT!!! if first results are similar in points, then we can use it's all\n",
    "        ansValue = newAns[0][1]\n",
    "        #newAns = filter(lambda x: x[1]==ansValue, newAns) #comment this for best results!\n",
    "        #newAns = sorted(newAns, key = lambda x: -x[0])\n",
    "        #print newAns\n",
    "        similar, maxSimilar = 0, 256\n",
    "        while len(newAns) > 0 and (True or ansValue == newAns[0][1]) and x < maxCompressSize and similar < maxSimilar: \n",
    "            curAns = newAns[0]\n",
    "            lines, findAtLeastOneReplace = compressorReplace(lines, curAns, x)\n",
    "            if True: #findAtLeastOneReplace:\n",
    "                fullAns[x] = curAns\n",
    "                x += 1\n",
    "                similar += 1\n",
    "            else:\n",
    "                print \"No replace for\", curAns\n",
    "            newAns = newAns[1:]\n",
    "    return fullAns"
   ]
  },
  {
   "cell_type": "code",
   "execution_count": null,
   "metadata": {
    "collapsed": true
   },
   "outputs": [],
   "source": [
    "def rebuildCompressNoDinamic(screen, maxCompressSize = 64, LINE_LEN=24):\n",
    "    ans = {}\n",
    "    for line in chunks(screen, LINE_LEN):\n",
    "        repeats = [list(g) for _, g in groupby(line)]\n",
    "        repeats = [(g[0],len(g)) for g in repeats]\n",
    "        for (tileNo,tileCount) in repeats:\n",
    "            #for tc in xrange(tileCount, tileCount+1):\n",
    "            for tc in xrange(2,tileCount+1):\n",
    "                compressPair = tileNo, tc\n",
    "                if compressPair in ans:\n",
    "                    ans[compressPair] += 1\n",
    "                else:\n",
    "                    ans[compressPair] = 1\n",
    "    #--\n",
    "    def calcPoints(v):\n",
    "        (t,c), cnt = v\n",
    "        return -(c-1)*cnt\n",
    "    \n",
    "    ans = sorted(ans.iteritems(), key = calcPoints)\n",
    "    #reverse values\n",
    "    ans = map (lambda x: (x[0][1],x[0][0]), ans[:maxCompressSize])\n",
    "    return ans"
   ]
  },
  {
   "cell_type": "code",
   "execution_count": null,
   "metadata": {
    "collapsed": false
   },
   "outputs": [],
   "source": [
    "#comment all for no compression\n",
    "#!!!\n",
    "#forbidden = [(15, 15), (14, 15), (13, 15), (15, 5), (22, 124), (21, 124), (14, 5), (3, 108), (2, 112)]\n",
    "#forbidden.extend([(12, 15), (20, 124), (13, 5), (19, 124), (2, 15), (3, 109)])\n",
    "#forbidden.extend([(17, 15), (18, 124), (3, 110), (3, 80)])\n",
    "#forbidden.extend([(11, 15), (2, 5), (2, 80), (0, 0)])\n",
    "#\n",
    "\n",
    "compressedArr = rebuildCompress(screen, [])\n",
    "print compressedArr\n",
    "#compressedArr = rebuildCompressNoDinamic(screen)\n",
    "#print compressedArr"
   ]
  },
  {
   "cell_type": "code",
   "execution_count": null,
   "metadata": {
    "collapsed": true
   },
   "outputs": [],
   "source": [
    "def packRepeat(repeat, compressedArr, compressedArrUsing):\n",
    "    tileNo, tileCount = repeat\n",
    "    if tileCount <= 0:\n",
    "        return []\n",
    "    if tileCount == 1:\n",
    "        return [tileNo]\n",
    "    #---\n",
    "    maxInd, maxCount = -1, -1\n",
    "    for (ind,(c,t)) in enumerate(compressedArr):\n",
    "        if t == tileNo and c <= tileCount:\n",
    "            if c > maxCount:\n",
    "                maxCount = c\n",
    "                maxInd = ind\n",
    "    if maxInd != -1:\n",
    "        compressedArrUsing[maxInd] += 1\n",
    "        return [0x80 | maxInd ] + packRepeat((tileNo, tileCount - maxCount), compressedArr, compressedArrUsing)\n",
    "    #---\n",
    "    return [tileNo] + packRepeat((tileNo, tileCount-1), compressedArr, compressedArrUsing)\n",
    "\n",
    "def compressLine(l, compressedArr, compressedArrUsing):\n",
    "    repeats = [list(g) for _, g in groupby(l)]\n",
    "    repeats = [(g[0],len(g)) for g in repeats]\n",
    "    ans = []\n",
    "    for r in repeats:\n",
    "        ans.extend(packRepeat(r, compressedArr, compressedArrUsing))\n",
    "    return ans\n"
   ]
  },
  {
   "cell_type": "code",
   "execution_count": null,
   "metadata": {
    "collapsed": false
   },
   "outputs": [],
   "source": [
    "def compressScreen(screen):\n",
    "    LINE_LEN = 24\n",
    "    curAddr = 0xA8ED\n",
    "    prevLinesAddrs = {}\n",
    "    linesAddrs = []\n",
    "    linesArray = []\n",
    "    compressedArrUsing = [0] * len(compressedArr)\n",
    "    for line in chunks(screen, LINE_LEN):\n",
    "        cline = compressLine(line, compressedArr, compressedArrUsing)\n",
    "        #print cline, \",\"\n",
    "        clineTupple = tuple(cline)\n",
    "        if clineTupple in prevLinesAddrs:\n",
    "            linesAddrs.append(prevLinesAddrs[clineTupple])\n",
    "            continue\n",
    "        prevLinesAddrs[clineTupple] = curAddr\n",
    "        linesAddrs.append(curAddr)\n",
    "        linesArray.extend(cline)\n",
    "        curAddr += len(cline)\n",
    "    return linesAddrs, linesArray, compressedArrUsing"
   ]
  },
  {
   "cell_type": "code",
   "execution_count": null,
   "metadata": {
    "collapsed": false
   },
   "outputs": [],
   "source": [
    "fullForbiddenArr = []\n",
    "\n",
    "while True:\n",
    "    linesAddrs, linesArray, compressedArrUsing = compressScreen(screen)\n",
    "    forbiddenArr = []\n",
    "    print \"Compressed size:\", len(linesArray)\n",
    "    #print compressedArrUsing\n",
    "    for ca, car in zip(compressedArr, compressedArrUsing):\n",
    "        if car == 0 and ca != (0,0):\n",
    "            forbiddenArr.append(ca)\n",
    "    if forbiddenArr == []:\n",
    "        break\n",
    "    fullForbiddenArr.extend(forbiddenArr)\n",
    "    compressedArr = rebuildCompress(screen, fullForbiddenArr)\n",
    "compressedArr = filter (lambda v: v!=(0,0), compressedArr)\n",
    "print compressedArr"
   ]
  },
  {
   "cell_type": "markdown",
   "metadata": {},
   "source": [
    "ПАТЧИНГ РОМА, ВОЗМОЖНО ОШИБКИ!"
   ]
  },
  {
   "cell_type": "code",
   "execution_count": null,
   "metadata": {
    "collapsed": true
   },
   "outputs": [],
   "source": [
    "def wordToBytes(word):\n",
    "    return word&0xFF, word>>8"
   ]
  },
  {
   "cell_type": "code",
   "execution_count": null,
   "metadata": {
    "collapsed": false
   },
   "outputs": [],
   "source": [
    "romPatchLinesArrayAddr = 0x1B93F\n",
    "romPatchDataArrayAddr  = 0x1A8FD\n",
    "romPatchCompressArrayAddr = 0x1B799\n",
    "dataLines = []\n",
    "for addr in linesAddrs:\n",
    "    dataLines.extend(wordToBytes(addr))\n",
    "    \n",
    "romName = r\"d:\\DEV\\CadEditor\\CadEditor\\Felix the Cat (U) [!].nes\"\n",
    "romName2 = r\"d:\\DEV\\CadEditor\\CadEditor\\Felix the Cat (U) [!]-2.nes\"\n",
    "with open(romName, \"rb\") as f:\n",
    "    d = f.read()\n",
    "    d = map(ord, d)\n",
    "#write lines pointers\n",
    "for x in xrange(len(dataLines)):\n",
    "    #we must save some bits it hi bytes addr, because they used to encoding objects\n",
    "    if x%2 == 1:\n",
    "        v = d[romPatchLinesArrayAddr+x]\n",
    "        v = (v & 0xC0) | (dataLines[x] & 0x3F)\n",
    "        d[romPatchLinesArrayAddr+x] = v\n",
    "    else:\n",
    "        d[romPatchLinesArrayAddr+x] = dataLines[x]\n",
    "#write lines data\n",
    "print len(linesArray)\n",
    "#print linesArray\n",
    "d[romPatchDataArrayAddr:romPatchDataArrayAddr+len(linesArray)] = linesArray\n",
    "#write compress dict\n",
    "compressedData = [y for x in compressedArr for y in x]\n",
    "d[romPatchCompressArrayAddr:romPatchCompressArrayAddr+len(compressedData)] = compressedData\n",
    "with open(romName2, \"wb\") as f:\n",
    "    d =  \"\".join(map(chr, d))\n",
    "    f.write(d)"
   ]
  },
  {
   "cell_type": "markdown",
   "metadata": {
    "collapsed": true
   },
   "source": [
    "<pre>\n",
    "0. Размер сжатых данных в словаре, используемом в игре:   3740 байт\n",
    "1. Размер данных со статическим составлением словаря:     3879 байт\n",
    "(при этом до повтора целых линий - 6313 байт)\n",
    "2. Размер данных с динамическим составлением словаря:     4695 байт\n",
    "3. C поправкой на использование неск. возможных значений: 3838 байт\n",
    "4. С циклическим исключением возможных ошибок:            3817 байт\n",
    "5. С большим размером словаря:                            3740 байт\n",
    "</pre>"
   ]
  }
 ],
 "metadata": {
  "kernelspec": {
   "display_name": "Python 2",
   "language": "python",
   "name": "python2"
  },
  "language_info": {
   "codemirror_mode": {
    "name": "ipython",
    "version": 2
   },
   "file_extension": ".py",
   "mimetype": "text/x-python",
   "name": "python",
   "nbconvert_exporter": "python",
   "pygments_lexer": "ipython2",
   "version": "2.7.12"
  }
 },
 "nbformat": 4,
 "nbformat_minor": 0
}
